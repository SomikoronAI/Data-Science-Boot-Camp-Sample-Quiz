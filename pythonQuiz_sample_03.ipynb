{
 "cells": [
  {
   "cell_type": "markdown",
   "metadata": {},
   "source": [
    "# Python Sample Quiz : Somikoron AI\n",
    "#### This notebook contains a set of 10 questions on `Pandas`"
   ]
  },
  {
   "cell_type": "markdown",
   "metadata": {},
   "source": [
    "#### Data Science Boot Camp, February 2023, Dhaka"
   ]
  },
  {
   "cell_type": "markdown",
   "metadata": {},
   "source": [
    "---"
   ]
  },
  {
   "cell_type": "code",
   "execution_count": 1,
   "metadata": {},
   "outputs": [],
   "source": [
    "import numpy as np\n",
    "import pandas as pd "
   ]
  },
  {
   "cell_type": "markdown",
   "metadata": {},
   "source": [
    "---"
   ]
  },
  {
   "cell_type": "markdown",
   "metadata": {},
   "source": [
    "## Part 1 : Easy"
   ]
  },
  {
   "cell_type": "raw",
   "metadata": {},
   "source": [
    "# Q: True or False : Pandas Series is used to show one dimensional data?"
   ]
  },
  {
   "cell_type": "code",
   "execution_count": 2,
   "metadata": {},
   "outputs": [],
   "source": [
    "# Write your answer here"
   ]
  },
  {
   "cell_type": "raw",
   "metadata": {},
   "source": [
    "# Q: What is a correct syntax to create an empty dataframe?\n",
    "\n",
    "a. pd.getFrame()\n",
    "b. pd.fromFrame()\n",
    "c. pd.DataFrame()\n",
    "d. pd.ShowFrame()\n",
    "e. pd.Frame()"
   ]
  },
  {
   "cell_type": "code",
   "execution_count": 3,
   "metadata": {},
   "outputs": [],
   "source": [
    "# Write your answer here"
   ]
  },
  {
   "cell_type": "raw",
   "metadata": {},
   "source": [
    "# Q: What is a correct syntax to return the first row of a dataframe?\n",
    "\n",
    "a. df.iloc[0]\n",
    "b. df[0]\n",
    "c. df.iloc[0,:]\n",
    "d. df[0,0:]\n",
    "e. Both a and c "
   ]
  },
  {
   "cell_type": "code",
   "execution_count": 4,
   "metadata": {},
   "outputs": [],
   "source": [
    "# Write your answer here"
   ]
  },
  {
   "cell_type": "raw",
   "metadata": {},
   "source": [
    "# Q: True or Flase : One can convert a series to a dataframe."
   ]
  },
  {
   "cell_type": "code",
   "execution_count": 5,
   "metadata": {},
   "outputs": [],
   "source": [
    "# Write your answer here"
   ]
  },
  {
   "cell_type": "raw",
   "metadata": {},
   "source": [
    "# Q: True or Flase : The rows in a series or in a dataframe are called 'rows'?"
   ]
  },
  {
   "cell_type": "code",
   "execution_count": 6,
   "metadata": {},
   "outputs": [],
   "source": [
    "# Write your answer here"
   ]
  },
  {
   "cell_type": "markdown",
   "metadata": {},
   "source": [
    "## Part 2 : Challenging"
   ]
  },
  {
   "cell_type": "raw",
   "metadata": {},
   "source": [
    "df  = pd.DataFrame({'x':[1.0,2,2,11,19,33], 'y':[4,3,3,9,0,np.nan]})\n",
    "\n",
    "# Q: What is the 'type' of the output, df['x']?  \n",
    "\n",
    "a. list\n",
    "b. series\n",
    "c. dataframe\n",
    "d. dictinary\n",
    "e. set"
   ]
  },
  {
   "cell_type": "code",
   "execution_count": 7,
   "metadata": {},
   "outputs": [],
   "source": [
    "# Write your answer here"
   ]
  },
  {
   "cell_type": "raw",
   "metadata": {},
   "source": [
    "# Q: What is the 'type' of the  output, df[['x']]? \n",
    "\n",
    "a. list\n",
    "b. series\n",
    "c. dataframe\n",
    "d. dictinary\n",
    "e. set"
   ]
  },
  {
   "cell_type": "code",
   "execution_count": 8,
   "metadata": {},
   "outputs": [],
   "source": [
    "# Write your answer here"
   ]
  },
  {
   "cell_type": "raw",
   "metadata": {},
   "source": [
    "# Q: How do you print an entire dataframe, df?\n",
    "\n",
    "a. df.to_string()\n",
    "b. df.print()\n",
    "c. df.dump()\n",
    "d. df.show_full()\n",
    "e. None of the above"
   ]
  },
  {
   "cell_type": "code",
   "execution_count": 9,
   "metadata": {},
   "outputs": [],
   "source": [
    "# Write your answer here"
   ]
  },
  {
   "cell_type": "raw",
   "metadata": {},
   "source": [
    "# Q: Find the maximum value along each row of df."
   ]
  },
  {
   "cell_type": "code",
   "execution_count": 10,
   "metadata": {},
   "outputs": [],
   "source": [
    "# Write your code here"
   ]
  },
  {
   "cell_type": "raw",
   "metadata": {},
   "source": [
    "# Q: Add value 9 along each row in column 1 of df."
   ]
  },
  {
   "cell_type": "code",
   "execution_count": 11,
   "metadata": {},
   "outputs": [],
   "source": [
    "# Write your code here"
   ]
  }
 ],
 "metadata": {
  "kernelspec": {
   "display_name": "Python 3 (ipykernel)",
   "language": "python",
   "name": "python3"
  },
  "language_info": {
   "codemirror_mode": {
    "name": "ipython",
    "version": 3
   },
   "file_extension": ".py",
   "mimetype": "text/x-python",
   "name": "python",
   "nbconvert_exporter": "python",
   "pygments_lexer": "ipython3",
   "version": "3.10.8"
  }
 },
 "nbformat": 4,
 "nbformat_minor": 4
}
