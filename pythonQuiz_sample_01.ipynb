{
 "cells": [
  {
   "cell_type": "markdown",
   "metadata": {},
   "source": [
    "# Python Sample Quiz : Somikoron AI\n",
    "#### This notebook contains a set of 10 questions on Python `string` and `list`."
   ]
  },
  {
   "cell_type": "markdown",
   "metadata": {},
   "source": [
    "#### Data Science Boot Camp, February 2023, Dhaka"
   ]
  },
  {
   "cell_type": "markdown",
   "metadata": {},
   "source": [
    "---"
   ]
  },
  {
   "cell_type": "code",
   "execution_count": 1,
   "metadata": {},
   "outputs": [],
   "source": [
    "import numpy as np\n",
    "import pandas as pd "
   ]
  },
  {
   "cell_type": "markdown",
   "metadata": {},
   "source": [
    "---"
   ]
  },
  {
   "cell_type": "markdown",
   "metadata": {},
   "source": [
    "## Part 1 : Easy"
   ]
  },
  {
   "cell_type": "raw",
   "metadata": {},
   "source": [
    "# Q: Which method will you use use to detect 'learn' in s = 'Python program is fun to learn' \n",
    "\n",
    "a. s.in('learn')\n",
    "b. s.within('learn')\n",
    "c. s.endswith('learn')\n",
    "d. s.where('learn')"
   ]
  },
  {
   "cell_type": "code",
   "execution_count": 2,
   "metadata": {},
   "outputs": [],
   "source": [
    "# Write your code here"
   ]
  },
  {
   "cell_type": "raw",
   "metadata": {},
   "source": [
    "# Q: What will be the output, 'Python is easy. It is easy to pick up.'.find('easy')\n",
    "\n",
    "a.  0\n",
    "b. 10\n",
    "c. 15\n",
    "d. 18"
   ]
  },
  {
   "cell_type": "code",
   "execution_count": 3,
   "metadata": {},
   "outputs": [],
   "source": [
    "# Write your code here"
   ]
  },
  {
   "cell_type": "raw",
   "metadata": {},
   "source": [
    "# Q: What will be the output, 'Python is easy. It is easy to pick up.'.find('easy',30,50)\n",
    "\n",
    "a.  0\n",
    "b. 10\n",
    "c. -1\n",
    "d. 18\n",
    "e. None of the above"
   ]
  },
  {
   "cell_type": "code",
   "execution_count": 4,
   "metadata": {},
   "outputs": [],
   "source": [
    "# Write your code here"
   ]
  },
  {
   "cell_type": "raw",
   "metadata": {},
   "source": [
    "# Q : Replace '\\t' from s='somikoron\\tai'.\n",
    "\n",
    "Hint: Use expandtabs and replace"
   ]
  },
  {
   "cell_type": "code",
   "execution_count": 5,
   "metadata": {},
   "outputs": [],
   "source": [
    "# Write your code here"
   ]
  },
  {
   "cell_type": "raw",
   "metadata": {},
   "source": [
    "# Q: Which method will you use to convert the following list of strings to a string?\n",
    "\n",
    "\n",
    "a. concate( ['somikoron','is','an','insurtech','startup'] )\n",
    "\n",
    "b. ' '.join( ['somikoron','is','an','insurtech','startup'] )\n",
    "\n",
    "c. ''.join( ['somikoron','is','an','insurtech','startup'] )\n",
    "\n",
    "d. ['somikoron','is','an','insurtech','startup'].lstrip()"
   ]
  },
  {
   "cell_type": "code",
   "execution_count": 6,
   "metadata": {},
   "outputs": [],
   "source": [
    "# Write your code here"
   ]
  },
  {
   "cell_type": "markdown",
   "metadata": {},
   "source": [
    "## Part 2 : Challenging"
   ]
  },
  {
   "cell_type": "raw",
   "metadata": {},
   "source": [
    "# Q: What is the decimal value of the letter 'a'?\n",
    "\n",
    "Hint : Use Python ord() or chr() method"
   ]
  },
  {
   "cell_type": "code",
   "execution_count": 7,
   "metadata": {},
   "outputs": [],
   "source": [
    "# Write your code here"
   ]
  },
  {
   "cell_type": "raw",
   "metadata": {},
   "source": [
    "# Q: True or False : What character does the decimal value 65 represent?\n",
    "\n",
    "Hint : Use Python ord() or chr() method"
   ]
  },
  {
   "cell_type": "code",
   "execution_count": 8,
   "metadata": {},
   "outputs": [],
   "source": [
    "# Write your code here"
   ]
  },
  {
   "cell_type": "raw",
   "metadata": {},
   "source": [
    "# Q : Run the following lines of code and print the output. What do you find? \n",
    "\n",
    "arr = np.arange(2432, 2556)\n",
    "\n",
    "for i in arr:\n",
    "    print( chr(i), end=',')"
   ]
  },
  {
   "cell_type": "code",
   "execution_count": 9,
   "metadata": {},
   "outputs": [],
   "source": [
    "# Write your code here"
   ]
  },
  {
   "cell_type": "raw",
   "metadata": {},
   "source": [
    "# Q: What is the decimal value of Bangla letter 'অ'?"
   ]
  },
  {
   "cell_type": "code",
   "execution_count": 10,
   "metadata": {},
   "outputs": [],
   "source": [
    "# Write your code here"
   ]
  },
  {
   "cell_type": "raw",
   "metadata": {},
   "source": [
    "# Q: What is the decimal value of Bangla letter 'আ'?\n",
    "\n",
    "a. 66\n",
    "b. 59\n",
    "c. ২৪৯৯\n",
    "d. None of the above"
   ]
  },
  {
   "cell_type": "code",
   "execution_count": 11,
   "metadata": {},
   "outputs": [],
   "source": [
    "# Write your code here"
   ]
  }
 ],
 "metadata": {
  "kernelspec": {
   "display_name": "Python 3 (ipykernel)",
   "language": "python",
   "name": "python3"
  },
  "language_info": {
   "codemirror_mode": {
    "name": "ipython",
    "version": 3
   },
   "file_extension": ".py",
   "mimetype": "text/x-python",
   "name": "python",
   "nbconvert_exporter": "python",
   "pygments_lexer": "ipython3",
   "version": "3.10.8"
  }
 },
 "nbformat": 4,
 "nbformat_minor": 4
}
