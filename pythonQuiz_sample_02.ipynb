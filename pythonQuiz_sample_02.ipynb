{
 "cells": [
  {
   "cell_type": "markdown",
   "metadata": {},
   "source": [
    "# Python Sample Quiz : Somikoron AI\n",
    "\n",
    "#### This notebook contains a set of 10 questions on Python `iterable`, `control-structure` , and `function`."
   ]
  },
  {
   "cell_type": "markdown",
   "metadata": {},
   "source": [
    "#### Data Science Boot Camp, February 2023, Dhaka"
   ]
  },
  {
   "cell_type": "markdown",
   "metadata": {},
   "source": [
    "---"
   ]
  },
  {
   "cell_type": "code",
   "execution_count": 1,
   "metadata": {},
   "outputs": [],
   "source": [
    "import numpy as np\n",
    "import pandas as pd "
   ]
  },
  {
   "cell_type": "markdown",
   "metadata": {},
   "source": [
    "---"
   ]
  },
  {
   "cell_type": "markdown",
   "metadata": {},
   "source": [
    "## Part 1 : Easy"
   ]
  },
  {
   "cell_type": "raw",
   "metadata": {},
   "source": [
    "# Q: What is the value of x?\n",
    "\n",
    "x = [1] * 2  * 3\n",
    "\n",
    "a. [1, 1, 1, 1, 1, 1]\n",
    "b. [1,2,3]\n",
    "c. [1,1,2,2,3,3,3]\n",
    "d. 6"
   ]
  },
  {
   "cell_type": "code",
   "execution_count": 2,
   "metadata": {},
   "outputs": [],
   "source": [
    "# Write your code here"
   ]
  },
  {
   "cell_type": "raw",
   "metadata": {},
   "source": [
    "# Q: What is the value of x?\n",
    "\n",
    "x = {1} * 2  * 3\n",
    "\n",
    "a. {1,2,3}\n",
    "b. (1,2,3)\n",
    "c. TypeError\n",
    "d. {1,1,1,1,1,1}"
   ]
  },
  {
   "cell_type": "code",
   "execution_count": 3,
   "metadata": {},
   "outputs": [],
   "source": [
    "# Write your code here"
   ]
  },
  {
   "cell_type": "raw",
   "metadata": {},
   "source": [
    "# Q : Convert [x for x in range(10)] into [0,0,0,0,0,0,1,1,1,1]."
   ]
  },
  {
   "cell_type": "code",
   "execution_count": 4,
   "metadata": {},
   "outputs": [],
   "source": [
    "# Write your code here"
   ]
  },
  {
   "cell_type": "raw",
   "metadata": {},
   "source": [
    "# Q: What is the output?\n",
    "\n",
    "num_list = [1, 2, 3]\n",
    "str_list = ['one', 'two','three']\n",
    "\n",
    "zip_object = zip(num_list, str_list)\n",
    "\n",
    "print( list(zip_object) )"
   ]
  },
  {
   "cell_type": "code",
   "execution_count": 5,
   "metadata": {},
   "outputs": [],
   "source": [
    "# Write your code here"
   ]
  },
  {
   "cell_type": "raw",
   "metadata": {},
   "source": [
    "# Q: What does the code print?\n",
    "\n",
    "num_list = [2,3,14,10]\n",
    "map_object = map( lambda x: x**2, num_list)\n",
    "print( list(map_object) )"
   ]
  },
  {
   "cell_type": "code",
   "execution_count": 6,
   "metadata": {},
   "outputs": [],
   "source": [
    "# Write your code here"
   ]
  },
  {
   "cell_type": "markdown",
   "metadata": {},
   "source": [
    "## Part 2 : Challenging"
   ]
  },
  {
   "cell_type": "raw",
   "metadata": {},
   "source": [
    "# Q: Which of the following objects can be used as a dictionary key?\n",
    "\n",
    "a. 'abc'\n",
    "b. 10\n",
    "c. ('key','value')\n",
    "d. ['key','value']\n",
    "e. {'k1':1, 'k2':2}"
   ]
  },
  {
   "cell_type": "code",
   "execution_count": 7,
   "metadata": {},
   "outputs": [],
   "source": [
    "# Write your answer here"
   ]
  },
  {
   "cell_type": "raw",
   "metadata": {},
   "source": [
    "# Q: Find the value 2 from the list.\n",
    "\n",
    "theList = [\n",
    "    'city',\n",
    "    'dhaka',\n",
    "    {'block': 11,\n",
    "     'apt': {'beds':3, 'baths':2},\n",
    "     'color': 'brick-red'},\n",
    "    {'block': 12, 'unit': 5}\n",
    "]"
   ]
  },
  {
   "cell_type": "code",
   "execution_count": 8,
   "metadata": {},
   "outputs": [],
   "source": [
    "# Write your code here"
   ]
  },
  {
   "cell_type": "raw",
   "metadata": {},
   "source": [
    "# Q: Convert the following list of tuples into a list of strings.\n",
    "\n",
    "tuple_list = [(1,2),(3,4),(5,6),(7,8)]\n",
    "\n",
    "Hint: You will need to use map(), lambda(), list comprehension, and join()"
   ]
  },
  {
   "cell_type": "code",
   "execution_count": 9,
   "metadata": {},
   "outputs": [],
   "source": [
    "# Write your code here"
   ]
  },
  {
   "cell_type": "raw",
   "metadata": {},
   "source": [
    "# Q: From the list below, find the word with the highest length\n",
    "\n",
    "string_list = ['Dhaka','Bangladesh','Career','Consistent','Somikoron','Data','Science']\n",
    "\n",
    "Hint: Use reduce(), lambda(), len(), and if-else"
   ]
  },
  {
   "cell_type": "code",
   "execution_count": 10,
   "metadata": {},
   "outputs": [],
   "source": [
    "# Write your code here"
   ]
  },
  {
   "cell_type": "raw",
   "metadata": {},
   "source": [
    "# Q : Find the minimum and maximum of the list, l = [36,17,4,26,5,12,9,8,18,5,12,41].\n",
    "\n",
    "You can not use Python min() or max() function.\n",
    "\n",
    "You must use a for loop along with if-else statement.   "
   ]
  },
  {
   "cell_type": "code",
   "execution_count": 11,
   "metadata": {},
   "outputs": [],
   "source": [
    "# Write your code here"
   ]
  }
 ],
 "metadata": {
  "kernelspec": {
   "display_name": "Python 3 (ipykernel)",
   "language": "python",
   "name": "python3"
  },
  "language_info": {
   "codemirror_mode": {
    "name": "ipython",
    "version": 3
   },
   "file_extension": ".py",
   "mimetype": "text/x-python",
   "name": "python",
   "nbconvert_exporter": "python",
   "pygments_lexer": "ipython3",
   "version": "3.10.8"
  }
 },
 "nbformat": 4,
 "nbformat_minor": 4
}
